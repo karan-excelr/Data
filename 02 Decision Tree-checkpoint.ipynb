{
 "cells": [
  {
   "cell_type": "code",
   "execution_count": 4,
   "id": "7b9d2651-1a69-4690-9528-f31b421ba3b5",
   "metadata": {},
   "outputs": [],
   "source": [
    "import math\n",
    "import pandas as pd\n",
    "import numpy as np\n",
    "from datetime import datetime\n",
    "\n",
    "import seaborn as sns\n",
    "import matplotlib.pyplot as plt\n",
    "%matplotlib inline\n",
    "#plt.style.use('seaborn-whitegrid')\n",
    "\n",
    "from sklearn.tree import DecisionTreeClassifier\n",
    "from sklearn.metrics import classification_report\n",
    "from sklearn.metrics import confusion_matrix"
   ]
  },
  {
   "cell_type": "code",
   "execution_count": 5,
   "id": "20b7606f-1b88-47a3-88fe-fa0e6e07e8e1",
   "metadata": {},
   "outputs": [],
   "source": [
    "df=pd.read_csv(\"00 df.csv\")\n",
    "train=df[df['flag']=='train']\n",
    "test =df[df['flag']=='test']"
   ]
  },
  {
   "cell_type": "code",
   "execution_count": 6,
   "id": "7282a2ce-eb22-493d-9a6d-4b2bb2cde249",
   "metadata": {},
   "outputs": [],
   "source": [
    "cat_feats=['age_bin','capital_gl_bin','education_bin','hours_per_week_bin','msr_bin','occupation_bin','race_sex_bin']\n",
    "y_train=train['y']\n",
    "x_train=train[['age_bin','capital_gl_bin','education_bin','hours_per_week_bin','msr_bin','occupation_bin','race_sex_bin']]\n",
    "\n",
    "x_train=pd.get_dummies(x_train,columns=cat_feats,drop_first=True)\n",
    "\n",
    "y_test=test['y']\n",
    "x_test=test[['age_bin','capital_gl_bin','education_bin','hours_per_week_bin','msr_bin','occupation_bin','race_sex_bin']]\n",
    "\n",
    "x_test=pd.get_dummies(x_test,columns=cat_feats,drop_first=True)\n"
   ]
  },
  {
   "cell_type": "code",
   "execution_count": null,
   "id": "be5db8ce-ca52-45e6-8d46-e0c6f0441ca1",
   "metadata": {},
   "outputs": [],
   "source": []
  }
 ],
 "metadata": {
  "kernelspec": {
   "display_name": "Python 3 (ipykernel)",
   "language": "python",
   "name": "python3"
  },
  "language_info": {
   "codemirror_mode": {
    "name": "ipython",
    "version": 3
   },
   "file_extension": ".py",
   "mimetype": "text/x-python",
   "name": "python",
   "nbconvert_exporter": "python",
   "pygments_lexer": "ipython3",
   "version": "3.12.4"
  }
 },
 "nbformat": 4,
 "nbformat_minor": 5
}
